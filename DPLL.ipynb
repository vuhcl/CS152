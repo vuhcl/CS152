{
 "cells": [
  {
   "cell_type": "code",
   "execution_count": 1,
   "metadata": {
    "collapsed": false
   },
   "outputs": [],
   "source": [
    "class Literal():\n",
    "    \"\"\"\n",
    "    Class to represent a logical literal\n",
    "    Attributes (in corresponding order):\n",
    "    - Name of the literal\n",
    "    - Sign of the literal, which is True if the literal is positive\n",
    "    and is False if the literal is negative, defaulted to True\n",
    "    \"\"\"\n",
    "    def __init__(self, name='', sign=True):\n",
    "        \"\"\"Initialize the literal\"\"\"\n",
    "        self._name = name\n",
    "        self.sign = sign\n",
    "        \n",
    "    def __neg__(self):\n",
    "        \"\"\"Define a negated literal\"\"\"\n",
    "        return Literal(self._name, not self.sign)\n",
    "    \n",
    "    def __eq__(self, other):\n",
    "        \"\"\"Set that two literals are equal regardless of their sign\"\"\"\n",
    "        return self._name == other._name\n",
    "    \n",
    "    def __hash__(self):\n",
    "        \"\"\"Define hash function to hash the name attribute\"\"\"\n",
    "        return hash(self._name)\n",
    "    \n",
    "    def __repr__(self):\n",
    "        return self.__str__()\n",
    "\n",
    "    def __str__(self):\n",
    "        if self.sign:\n",
    "            return self._name\n",
    "        else:\n",
    "            return '-'+self._name"
   ]
  },
  {
   "cell_type": "code",
   "execution_count": 2,
   "metadata": {
    "collapsed": false
   },
   "outputs": [],
   "source": [
    "import copy\n",
    "def getSymbol(KB):\n",
    "    \"\"\"Parse the KB to get all the literals used\"\"\"\n",
    "    symbol_list = set()\n",
    "    for clause in KB:\n",
    "        for symbol in clause:\n",
    "            if symbol not in symbol_list:\n",
    "                if symbol.sign:\n",
    "                    symbol_list.add(symbol)\n",
    "                else:\n",
    "                    # If the literal is negative,\n",
    "                    # store the positive literal instead\n",
    "                    symbol_list.add(-symbol)\n",
    "    return symbol_list\n",
    "\n",
    "def degreeHeuristic(clauses, symbols, model):\n",
    "    \"\"\"Implementation of the degree heuristic\"\"\"\n",
    "    degree = {}\n",
    "    # Find all symbols that are yet to be assigned\n",
    "    # and store them in the dict with degree set to 0\n",
    "    for sym in symbols:\n",
    "        if not sym in model:\n",
    "            degree[sym] = 0\n",
    "    \n",
    "    # If there is no symbols that are yet to be assigned,\n",
    "    # return None\n",
    "    if len(degree) == 0:\n",
    "        return None\n",
    "    \n",
    "    # If there is only one symbol that is yet to be assigned,\n",
    "    # return the symbol\n",
    "    if len(degree) == 1:\n",
    "        return max(degree, key=degree.get)\n",
    "    \n",
    "    # Calculate the degree for all unassigned symbols\n",
    "    for clause in clauses:\n",
    "        for symbol in clause:\n",
    "            if symbol in degree:\n",
    "                degree[symbol] += 1\n",
    "    # Return the symbol with the highest degree\n",
    "    return max(degree, key=degree.get)\n",
    "\n",
    "def pureSymbol(clauses, model):\n",
    "    \"\"\"Implementation of the pure symbol heuristic\"\"\"\n",
    "    positive_literals = set()\n",
    "    negative_literals = set()\n",
    "    # Find all the positive literals and negative literals\n",
    "    for clause in clauses:\n",
    "        for symbol in clause:\n",
    "            if symbol.sign and symbol not in positive_literals:\n",
    "                positive_literals.add(symbol)\n",
    "            if not symbol.sign and symbol not in negative_literals:\n",
    "                negative_literals.add(-symbol)\n",
    "    # Perform xor on the two sets to get the set of pure symbols\n",
    "    pure_symbols = positive_literals ^ negative_literals\n",
    "    \n",
    "    # Use the degree heuristic to find the pure symbol that is yet \n",
    "    # to be assigned and occurs in the most number of clauses \n",
    "    max_degree = degreeHeuristic(clauses, pure_symbols, model)\n",
    "    # If the symbol is a postive literal, then we need to assign\n",
    "    # True to make the clause True\n",
    "    if max_degree in positive_literals:\n",
    "        return max_degree, 'true'\n",
    "    # If the symbol is a negative literal, then we need to assign\n",
    "    # False to make the clause True\n",
    "    # This also takes into account the case where the symbol is null.\n",
    "    else:\n",
    "        return max_degree, 'false'\n",
    "\n",
    "def unitClause(truth_clauses, model):\n",
    "    \"\"\"Implementation of the unit clause heuristic\"\"\"\n",
    "    # truth_clauses is a dict of the clauses in the KB and the\n",
    "    # truth value of their literals in the given model\n",
    "    symbols = set()\n",
    "    for clause in truth_clauses:\n",
    "        # If the clause is not True in the given model\n",
    "        if 'true' not in truth_clauses[clause]:\n",
    "            # Count many literals are still unassigned\n",
    "            count = 0\n",
    "            for value in truth_clauses[clause]:\n",
    "                if value == 'unknown':\n",
    "                    count += 1\n",
    "            # If there is only one literal without an assigned\n",
    "            # truth value, the clause is a unit clause.\n",
    "            # Store the symbol to be assigned.\n",
    "            if count == 1:\n",
    "                for symbol in clause:\n",
    "                    if symbol not in symbols:\n",
    "                        if symbol.sign:\n",
    "                            symbols.add(symbol)   \n",
    "                        else:\n",
    "                            symbols.add(-symbol) \n",
    "    # Use the degree heuristic to find the unit clause with \n",
    "    # the symbol that is yet to be assigned and occurs in\n",
    "    # the most number of clauses\n",
    "    max_degree = degreeHeuristic(truth_clauses, symbols, model)\n",
    "    # If the symbol is null, return None\n",
    "    if max_degree is None:\n",
    "        return None, 'false'\n",
    "    # If the symbol is a postive literal, then we need to assign\n",
    "    # True to make the clause True\n",
    "    if max_degree.sign:\n",
    "        return max_degree, 'true'\n",
    "    # If the symbol is a negative literal, then we need to assign\n",
    "    # False to make the clause True\n",
    "    else:\n",
    "        return max_degree, 'false'\n",
    "\n",
    "def DPLLSatisfiable(KB):\n",
    "    # Get the symbols used in the KB\n",
    "    symbols = getSymbol(KB)\n",
    "    # Turn the clauses into frozen sets to hash them later\n",
    "    clauses = [frozenset(clause) for clause in KB]\n",
    "    return DPLL(clauses, symbols, {})\n",
    "\n",
    "def DPLL(clauses, symbols, model):\n",
    "    # Store the truth value of each clause in the given model\n",
    "    truth_values = []\n",
    "    # The dict of the clauses in the KB and the truth value of\n",
    "    # their literals in the given model\n",
    "    truth_clauses = {}\n",
    "    # Evaluate truth value of KB in the given model\n",
    "    for clause in clauses:\n",
    "        clause_truth_value = set({})\n",
    "        for symbol in clause:\n",
    "            # If the symbol has been assigned in the model\n",
    "            if symbol in model:\n",
    "                if symbol.sign:\n",
    "                    clause_truth_value.add(model[symbol])\n",
    "                    # If the literal is positive and it is True\n",
    "                    # then the whole clause is True, so break\n",
    "                    # out of the for loop\n",
    "                    if model[symbol] == 'true':\n",
    "                        break\n",
    "                elif model[symbol] == 'true':\n",
    "                    clause_truth_value.add('false')\n",
    "                else:\n",
    "                    # If the literal is negative and it is False\n",
    "                    # then the whole clause is True, so break\n",
    "                    # out of the for loop\n",
    "                    clause_truth_value.add('true')\n",
    "                    break\n",
    "            # If not assigned yet, mark it as unknown\n",
    "            else:\n",
    "                clause_truth_value.add('unknown')   \n",
    "        truth_clauses[clause] = clause_truth_value\n",
    "        # Assigning truth value to the whole clause\n",
    "        # If the clause has a True in it, then it is True\n",
    "        if 'true' in clause_truth_value:\n",
    "            truth_values.append(True)\n",
    "        # If the clause does not have a True in it, and it still\n",
    "        # has unknown literals, then its truth value is unknown\n",
    "        # I store None here because it evaluates to False, but it\n",
    "        # is not the same value as False\n",
    "        elif 'unknown' in clause_truth_value:\n",
    "            truth_values.append(None)\n",
    "        # If the clause's literals all evaluate to False, then the\n",
    "        # clause is False and the whole KB is False, so KB is not\n",
    "        # satisfiable in the given model\n",
    "        else:\n",
    "            return False, {}\n",
    "    # If all clauses are True\n",
    "    if all(truth_values):\n",
    "        # Mark the unassigned symbols as 'free'\n",
    "        for sym in symbols:\n",
    "            if sym not in model:\n",
    "                model[sym] = 'free'\n",
    "        return True, model\n",
    "    # At this point, the KB does not have a False clause (else it \n",
    "    # would have terminated early), and not all of its clauses are \n",
    "    # True so we need to continue assigning values to symbols.\n",
    "    else:\n",
    "        # Get next symbol to assign using pure symbol heuristic\n",
    "        sym, value =  pureSymbol(clauses, model)\n",
    "        if sym is not None:\n",
    "            new_symbols = copy.deepcopy(symbols)\n",
    "            new_symbols.remove(sym)\n",
    "            satisfiability, m = DPLL(clauses, new_symbols, \\\n",
    "                                     {**model, sym: value})\n",
    "            if satisfiability:\n",
    "                return satisfiability, m\n",
    "        \n",
    "        # If there is no pure symbol unassigned, then use unit\n",
    "        # clause heuristic\n",
    "        sym, value =  unitClause(truth_clauses, model)\n",
    "        if sym is not None:\n",
    "            new_symbols = copy.deepcopy(symbols)\n",
    "            new_symbols.remove(sym)\n",
    "            satisfiability, m = DPLL(clauses, new_symbols, \\\n",
    "                                     {**model, sym: value})\n",
    "            if satisfiability:\n",
    "                return satisfiability, m\n",
    "        # If there is no unit clause, then use degree heuristic\n",
    "        # to choose the next symbol\n",
    "        sym = degreeHeuristic(clauses, symbols, model)\n",
    "        new_symbols = copy.deepcopy(symbols)\n",
    "        new_symbols.remove(sym)\n",
    "        satisfiability, m = DPLL(clauses, new_symbols, \\\n",
    "                                 {**model, sym: 'true'})\n",
    "        if satisfiability:\n",
    "            return satisfiability, m\n",
    "        else:\n",
    "            return DPLL(clauses, new_symbols,{**model, sym:'false'})"
   ]
  },
  {
   "cell_type": "code",
   "execution_count": 3,
   "metadata": {
    "collapsed": false
   },
   "outputs": [],
   "source": [
    "A = Literal('A')\n",
    "\n",
    "B = Literal('B')\n",
    "\n",
    "C = Literal('C')\n",
    "\n",
    "D = Literal('D')\n",
    "\n",
    "KB = [{A,B},{A,-C},{-A,B,D}]\n",
    "KB1 = [{-A, B}, {A, -C}, {-B}, {C}]"
   ]
  },
  {
   "cell_type": "code",
   "execution_count": 4,
   "metadata": {
    "collapsed": false
   },
   "outputs": [
    {
     "data": {
      "text/plain": [
       "(True, {A: 'free', B: 'true', C: 'false', D: 'true'})"
      ]
     },
     "execution_count": 4,
     "metadata": {},
     "output_type": "execute_result"
    }
   ],
   "source": [
    "DPLLSatisfiable(KB)"
   ]
  },
  {
   "cell_type": "code",
   "execution_count": 5,
   "metadata": {
    "collapsed": false
   },
   "outputs": [
    {
     "data": {
      "text/plain": [
       "(False, {})"
      ]
     },
     "execution_count": 5,
     "metadata": {},
     "output_type": "execute_result"
    }
   ],
   "source": [
    "DPLLSatisfiable(KB1)"
   ]
  },
  {
   "cell_type": "code",
   "execution_count": 6,
   "metadata": {
    "collapsed": false
   },
   "outputs": [],
   "source": [
    "E = Literal('E')\n",
    "\n",
    "F = Literal('F')\n",
    "\n",
    "KB2 = [{-A, B, E}, {-B, A}, {-E, A}, {-E, D}, {-C, -F, -B}, {-E, B}, {-B, F}, {-B, C}]"
   ]
  },
  {
   "cell_type": "code",
   "execution_count": 7,
   "metadata": {
    "collapsed": false,
    "scrolled": false
   },
   "outputs": [
    {
     "data": {
      "text/plain": [
       "(True, {A: 'false', B: 'false', C: 'free', D: 'true', E: 'false', F: 'free'})"
      ]
     },
     "execution_count": 7,
     "metadata": {},
     "output_type": "execute_result"
    }
   ],
   "source": [
    "DPLLSatisfiable(KB2)"
   ]
  }
 ],
 "metadata": {
  "anaconda-cloud": {},
  "kernelspec": {
   "display_name": "py_36_env",
   "language": "python",
   "name": "py_36_env"
  },
  "language_info": {
   "codemirror_mode": {
    "name": "ipython",
    "version": 3
   },
   "file_extension": ".py",
   "mimetype": "text/x-python",
   "name": "python",
   "nbconvert_exporter": "python",
   "pygments_lexer": "ipython3",
   "version": "3.6.4"
  }
 },
 "nbformat": 4,
 "nbformat_minor": 0
}
